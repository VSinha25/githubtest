{
 "cells": [
  {
   "cell_type": "code",
   "execution_count": 9,
   "metadata": {},
   "outputs": [
    {
     "name": "stdout",
     "output_type": "stream",
     "text": [
      "3\n",
      "1\n",
      "2\n",
      "2\n",
      "4\n",
      "4\n",
      "2\n",
      "2\n",
      "1\n",
      "3\n",
      "2\n",
      "5\n",
      "7\n",
      "Invalid Operation\n",
      "6\n"
     ]
    }
   ],
   "source": [
    "a=int(input())\n",
    "while(a!=6):\n",
    "    \n",
    "    if(a==1):\n",
    "        b=int(input())\n",
    "        c=int(input())\n",
    "        d=b+c\n",
    "        print(d)\n",
    "        \n",
    "    elif(a==2):\n",
    "        b=int(input())\n",
    "        c=int(input())\n",
    "        d=b+c\n",
    "        print(d)\n",
    "        \n",
    "    elif(a==3):\n",
    "        b=int(input())\n",
    "        c=int(input())\n",
    "        d=b*c\n",
    "        print(d)\n",
    "        \n",
    "    elif(a==4):\n",
    "        b=int(input())\n",
    "        c=int(input())\n",
    "        d=b//c\n",
    "        print(d)\n",
    "        \n",
    "    elif(a==5):\n",
    "        b=int(input())\n",
    "        c=int(input())\n",
    "        d=b%c\n",
    "        print(d)\n",
    "    elif(a!=6):\n",
    "        print(\"Invalid Operation\")\n",
    "    a=int(input())    "
   ]
  },
  {
   "cell_type": "code",
   "execution_count": 10,
   "metadata": {},
   "outputs": [
    {
     "data": {
      "text/plain": [
       "0"
      ]
     },
     "execution_count": 10,
     "metadata": {},
     "output_type": "execute_result"
    }
   ],
   "source": [
    "1//10"
   ]
  },
  {
   "cell_type": "code",
   "execution_count": 12,
   "metadata": {},
   "outputs": [
    {
     "name": "stdout",
     "output_type": "stream",
     "text": [
      "4\n",
      "3\n"
     ]
    }
   ],
   "source": [
    "n = int(input())\n",
    "x = 0\n",
    "y = 1\n",
    "\n",
    "while n>1:\n",
    "    z = x +y\n",
    "    x = y\n",
    "    y = z\n",
    "    n = n-1\n",
    "    \n",
    "print(z)    "
   ]
  },
  {
   "cell_type": "code",
   "execution_count": 3,
   "metadata": {},
   "outputs": [
    {
     "name": "stdout",
     "output_type": "stream",
     "text": [
      "4\n",
      "1\n",
      "21\n",
      "321\n",
      "4321\n"
     ]
    }
   ],
   "source": [
    "n = int(input())\n",
    "i = 1\n",
    "while i <= n:\n",
    "    j = 1\n",
    "    k = i\n",
    "    while j <= i:\n",
    "        print(k,end = \"\")\n",
    "        k = k - 1\n",
    "        j = j + 1\n",
    "    print()    \n",
    "    i = i + 1"
   ]
  },
  {
   "cell_type": "code",
   "execution_count": 8,
   "metadata": {},
   "outputs": [
    {
     "name": "stdout",
     "output_type": "stream",
     "text": [
      "4\n",
      "A\n",
      "BC\n",
      "CDE\n",
      "DEFG\n"
     ]
    }
   ],
   "source": [
    "N = int(input())\n",
    "i = 1\n",
    "while i <= N:\n",
    "    j = 1\n",
    "    schar = chr(ord(\"A\") + i - 1)\n",
    "    while j <= i:\n",
    "        print(chr(ord(schar) + j - 1),end = \"\")\n",
    "        j = j + 1\n",
    "    print()\n",
    "    i = i + 1"
   ]
  },
  {
   "cell_type": "code",
   "execution_count": 12,
   "metadata": {},
   "outputs": [
    {
     "name": "stdout",
     "output_type": "stream",
     "text": [
      "5\n",
      "E\n",
      "DE\n",
      "CDE\n",
      "BCDE\n",
      "ABCDE\n"
     ]
    }
   ],
   "source": [
    "N = int(input())\n",
    "i = 1\n",
    "while i <= N:\n",
    "    nchar = chr(ord(\"A\") + N - i)\n",
    "    j = 1\n",
    "    while j <= i:\n",
    "        print(chr(ord(nchar) + j - 1),end = \"\")\n",
    "        j = j + 1\n",
    "    print()\n",
    "    i = i + 1   "
   ]
  },
  {
   "cell_type": "code",
   "execution_count": 19,
   "metadata": {},
   "outputs": [
    {
     "name": "stdout",
     "output_type": "stream",
     "text": [
      "4\n",
      "1\n",
      "02\n",
      "303\n",
      "4404\n"
     ]
    }
   ],
   "source": [
    "N = int(input())\n",
    "i = 1\n",
    "while i <= N:\n",
    "    j = 1\n",
    "    while j <= i:\n",
    "        if j==(i-1):\n",
    "            print(0,end = \"\")\n",
    "            j = j + 1\n",
    "        else:\n",
    "            print(i,end=\"\")\n",
    "            j = j + 1\n",
    "    print()\n",
    "    i = i + 1"
   ]
  },
  {
   "cell_type": "code",
   "execution_count": 31,
   "metadata": {},
   "outputs": [
    {
     "name": "stdout",
     "output_type": "stream",
     "text": [
      "4\n",
      "1234\n",
      "123\n",
      "12\n",
      "1\n",
      "\n"
     ]
    }
   ],
   "source": [
    "N = int(input())\n",
    "i = N\n",
    "while i >= 0:\n",
    "    j = 1\n",
    "    while j <= i:\n",
    "        print(j,end = \"\")\n",
    "        j = j + 1\n",
    "    print()\n",
    "    i = i - 1"
   ]
  },
  {
   "cell_type": "code",
   "execution_count": 34,
   "metadata": {},
   "outputs": [
    {
     "name": "stdout",
     "output_type": "stream",
     "text": [
      "5\n",
      "12345\n",
      "1234\n",
      "123\n",
      "12\n",
      "1\n",
      "\n"
     ]
    }
   ],
   "source": [
    "N = int(input())\n",
    "while N >= 0:\n",
    "    j = 1\n",
    "    while j <= N:\n",
    "        print(j,end = \"\")\n",
    "        j = j + 1\n",
    "    print()\n",
    "    N = N - 1"
   ]
  },
  {
   "cell_type": "code",
   "execution_count": 37,
   "metadata": {},
   "outputs": [
    {
     "name": "stdout",
     "output_type": "stream",
     "text": [
      "3\n",
      "A\n",
      "BB\n",
      "CCC\n"
     ]
    }
   ],
   "source": [
    "N = int(input())\n",
    "i = 1\n",
    "while i <= N:\n",
    "    j = 1\n",
    "    while j <= i:\n",
    "        print(chr(ord(\"A\") + i - 1),end = \"\")\n",
    "        j = j + 1\n",
    "    print()\n",
    "    i = i + 1"
   ]
  },
  {
   "cell_type": "code",
   "execution_count": 41,
   "metadata": {},
   "outputs": [
    {
     "name": "stdout",
     "output_type": "stream",
     "text": [
      "4\n",
      "4\n",
      "33\n",
      "022\n",
      "1011\n"
     ]
    }
   ],
   "source": [
    "N = int(input())\n",
    "i = 1\n",
    "while i <= N:\n",
    "    j = 1\n",
    "    while j <= i:\n",
    "        if j==(i-2):\n",
    "            print(0,end = \"\")\n",
    "            j = j + 1\n",
    "        else:\n",
    "            print(N-i+1,end=\"\")\n",
    "            j = j + 1\n",
    "    print()\n",
    "    i = i + 1"
   ]
  },
  {
   "cell_type": "code",
   "execution_count": 42,
   "metadata": {},
   "outputs": [
    {
     "name": "stdout",
     "output_type": "stream",
     "text": [
      "4\n",
      "1\n",
      "11\n",
      "202\n",
      "3003\n"
     ]
    }
   ],
   "source": [
    "N = int(input())\n",
    "i = 1\n",
    "while i <= N:\n",
    "    j = 1\n",
    "    while j <= i:\n",
    "        if i == 1:\n",
    "            k = 1\n",
    "        else:\n",
    "            k = i-1\n",
    "        if j==1 or j==i:\n",
    "            print(k,end = \"\")\n",
    "            j = j + 1\n",
    "        else:\n",
    "            print(0,end=\"\")\n",
    "            j = j + 1\n",
    "    print()\n",
    "    i = i + 1"
   ]
  },
  {
   "cell_type": "code",
   "execution_count": 43,
   "metadata": {},
   "outputs": [
    {
     "name": "stdout",
     "output_type": "stream",
     "text": [
      "4\n",
      "   1\n",
      "  12\n",
      " 123\n",
      "1234\n"
     ]
    }
   ],
   "source": [
    "n = int(input())\n",
    "i = 1\n",
    "while i <= N:\n",
    "    sp = 1\n",
    "    while sp <= N-i:\n",
    "        print(' ', end = \"\")\n",
    "        sp = sp + 1\n",
    "    j = 1\n",
    "    while j <= i:\n",
    "        print(j,end = \"\")\n",
    "        j = j + 1\n",
    "    print()    \n",
    "    i = i + 1"
   ]
  },
  {
   "cell_type": "code",
   "execution_count": 44,
   "metadata": {},
   "outputs": [
    {
     "name": "stdout",
     "output_type": "stream",
     "text": [
      "4\n",
      "   1\n",
      "  121\n",
      " 12321\n",
      "1234321\n"
     ]
    }
   ],
   "source": [
    "n = int(input())\n",
    "i = 1\n",
    "while i <= N:\n",
    "    sp = 1\n",
    "    while sp <= N-i:\n",
    "        print(' ', end = \"\")\n",
    "        sp = sp + 1\n",
    "    j = 1\n",
    "    while j <= i:\n",
    "        print(j,end = \"\")\n",
    "        j = j + 1\n",
    "    p = i - 1\n",
    "    while p >= 1:\n",
    "        print(p,end = \"\")\n",
    "        p = p - 1\n",
    "    print()    \n",
    "    i = i + 1"
   ]
  },
  {
   "cell_type": "code",
   "execution_count": 45,
   "metadata": {},
   "outputs": [
    {
     "name": "stdout",
     "output_type": "stream",
     "text": [
      "4\n",
      "   *\n",
      "  ***\n",
      " *****\n",
      "*******\n"
     ]
    }
   ],
   "source": [
    "N = int(input())\n",
    "i = 1\n",
    "while  i <= N:\n",
    "    sp = 1\n",
    "    while sp <= N-i:\n",
    "        print(' ',end  = \"\")\n",
    "        sp = sp + 1\n",
    "    j = 1 \n",
    "    while j <= i:\n",
    "        print('*',end = \"\")\n",
    "        j = j + 1\n",
    "    p = i - 1\n",
    "    while p >= 1:\n",
    "        print('*',end = \"\")\n",
    "        p = p - 1\n",
    "    print() \n",
    "    i = i + 1"
   ]
  },
  {
   "cell_type": "code",
   "execution_count": 52,
   "metadata": {},
   "outputs": [
    {
     "name": "stdout",
     "output_type": "stream",
     "text": [
      "5\n",
      "    1\n",
      "   232\n",
      "  34543\n",
      " 4567654\n",
      "567898765\n"
     ]
    }
   ],
   "source": [
    "N = int(input())\n",
    "i = 1\n",
    "while i <= N:\n",
    "    sp = 1\n",
    "    while sp <= N-i:\n",
    "        print(' ', end = \"\")\n",
    "        sp = sp + 1\n",
    "    j = i\n",
    "    while j <= 2*i-1:\n",
    "        print(j,end = \"\")\n",
    "        j = j + 1\n",
    "    p = 2*i - 2\n",
    "    while p >= i:\n",
    "        print(p,end = \"\")\n",
    "        p = p - 1\n",
    "    print() \n",
    "    i = i + 1"
   ]
  },
  {
   "cell_type": "code",
   "execution_count": 73,
   "metadata": {},
   "outputs": [
    {
     "name": "stdout",
     "output_type": "stream",
     "text": [
      "5\n",
      "  *\n",
      " ****\n",
      "*******\n"
     ]
    }
   ],
   "source": [
    "N = int(input())\n",
    "i = 1\n",
    "n1 = (N+1)/2\n",
    "n2 = N//2\n",
    "while  i <= n1:\n",
    "    sp = 1\n",
    "    while sp <= n1-i:\n",
    "        print(' ',end  = \"\")\n",
    "        sp = sp + 1\n",
    "    j = 1 \n",
    "    while j <= 2*i-1:\n",
    "        print('*',end = \"\")\n",
    "        j = j + 1\n",
    "    p = i - 1\n",
    "    while p >= 1:\n",
    "        print('*',end = \"\")\n",
    "        p = p - 1\n",
    "    print() \n",
    "    i = i + 1\n",
    "\n",
    "    \n"
   ]
  },
  {
   "cell_type": "code",
   "execution_count": 74,
   "metadata": {},
   "outputs": [
    {
     "name": "stdout",
     "output_type": "stream",
     "text": [
      "5\n",
      "1        1\n",
      "12      21\n",
      "123    321\n",
      "1234  4321\n",
      "1234554321\n"
     ]
    }
   ],
   "source": [
    "N = int(input())\n",
    "i = 1\n",
    "while i <= N:\n",
    "    j = 1\n",
    "    while j <= i :\n",
    "        print(j,end = \"\")\n",
    "        j = j + 1\n",
    "    sp = 1\n",
    "    tspace = (2*N)-(2*i)\n",
    "    while sp <= tspace:\n",
    "        print(' ',end = \"\")\n",
    "        sp = sp + 1\n",
    "    k = i\n",
    "    while k >= 1:\n",
    "        print(k,end = \"\")\n",
    "        k = k - 1\n",
    "        \n",
    "    print()\n",
    "    i = i + 1"
   ]
  },
  {
   "cell_type": "code",
   "execution_count": 76,
   "metadata": {},
   "outputs": [
    {
     "name": "stdout",
     "output_type": "stream",
     "text": [
      "4\n",
      "*000*000*\n",
      "0*00*00*0\n",
      "00*0*0*00\n",
      "000***000\n"
     ]
    }
   ],
   "source": [
    "N = int(input())\n",
    "i = 1\n",
    "l = 2*N + 1\n",
    "while i <= N:\n",
    "    j = 1\n",
    "    while j <= l:\n",
    "        if j==i or j==(N+1) or j==(l-i+1):\n",
    "            print('*',end = \"\")\n",
    "        else:\n",
    "            print(0,end = \"\")\n",
    "        \n",
    "        j = j + 1\n",
    "    print()\n",
    "    i = i + 1"
   ]
  },
  {
   "cell_type": "code",
   "execution_count": 81,
   "metadata": {},
   "outputs": [
    {
     "name": "stdout",
     "output_type": "stream",
     "text": [
      "4\n",
      "    1\n",
      "   212\n",
      "  32123\n",
      " 4321234\n"
     ]
    }
   ],
   "source": [
    "N = int(input())\n",
    "i = 1\n",
    "while i <= N:\n",
    "    sp = 1\n",
    "    while sp <= N-i+1:\n",
    "        print(' ',end = \"\")\n",
    "        sp = sp + 1\n",
    "    j = i\n",
    "    while j >= 1:\n",
    "        print(j,end = \"\")\n",
    "        j = j - 1\n",
    "    p = j + 2 \n",
    "    while p <= i :\n",
    "        print(p,end = \"\")\n",
    "        p = p + 1\n",
    "    print() \n",
    "    i = i + 1"
   ]
  },
  {
   "cell_type": "code",
   "execution_count": 84,
   "metadata": {},
   "outputs": [
    {
     "name": "stdout",
     "output_type": "stream",
     "text": [
      "7\n",
      "* \n",
      " * * \n",
      "  * * * \n",
      "   * * * * \n",
      "  * * * \n",
      " * * \n",
      "* \n"
     ]
    }
   ],
   "source": [
    "N = int(input())\n",
    "i = 1\n",
    "n1 = (N+1)//2\n",
    "n2 = N//2\n",
    "while i <= n1:\n",
    "    sp = 1\n",
    "    while sp <= i-1:\n",
    "        print(' ',end = \"\")\n",
    "        sp = sp + 1\n",
    "    j = 1\n",
    "    while j <= i:\n",
    "        print('* ',end = \"\")\n",
    "        j = j + 1\n",
    "    print()\n",
    "    i = i + 1\n",
    "\n",
    "p = 1\n",
    "while p <= n2:\n",
    "    sp1 = 1\n",
    "    while sp1 <= n2 - p:\n",
    "        print(' ',end = \"\")\n",
    "        sp1 = sp1 + 1\n",
    "    j = 1\n",
    "    while j <= n2-p+1:\n",
    "        print('* ',end = \"\")\n",
    "        j = j + 1\n",
    "    print()\n",
    "    p = p + 1\n",
    "    "
   ]
  },
  {
   "cell_type": "code",
   "execution_count": 13,
   "metadata": {},
   "outputs": [
    {
     "name": "stdout",
     "output_type": "stream",
     "text": [
      "4\n",
      "1111\n",
      "000\n",
      "11\n",
      "0\n",
      "\n"
     ]
    }
   ],
   "source": [
    "N = int(input())\n",
    "i = 0\n",
    "for i in range(N,i-1,-1):\n",
    "    for j in range(0,i):\n",
    "        if i%2 == 0:\n",
    "            print(1,end = \"\")\n",
    "        else:\n",
    "            print(0,end = \"\")\n",
    "    print()       "
   ]
  },
  {
   "cell_type": "code",
   "execution_count": 5,
   "metadata": {},
   "outputs": [
    {
     "name": "stdout",
     "output_type": "stream",
     "text": [
      "1234\n",
      "false\n"
     ]
    }
   ],
   "source": [
    "def checkPalindrome(num):\n",
    "    k = num\n",
    "    n = 0\n",
    "    while num > 0:\n",
    "        rem = num%10\n",
    "        n = n*10+rem\n",
    "        num = num//10\n",
    "    if n == k :\n",
    "        return True\n",
    "    else:\n",
    "        return False\n",
    "\t\t\n",
    "num = int(input())\n",
    "isPalindrome = checkPalindrome(num)\n",
    "if(isPalindrome):\n",
    "\tprint('true')\n",
    "else:\n",
    "\tprint('false')\n"
   ]
  },
  {
   "cell_type": "code",
   "execution_count": 16,
   "metadata": {},
   "outputs": [
    {
     "name": "stdout",
     "output_type": "stream",
     "text": [
      "120\n",
      "200\n",
      "40\n",
      "120 48\n",
      "160 71\n",
      "200 93\n"
     ]
    }
   ],
   "source": [
    "def printTable(start,end,step):\n",
    "    while start <= end:\n",
    "        C = int((start-32)*(5/9))\n",
    "        print(start,C)\n",
    "        start = start + step   \n",
    "s = int(input())\n",
    "e = int(input())\n",
    "step = int(input())\n",
    "printTable(s,e,step)\n"
   ]
  },
  {
   "cell_type": "code",
   "execution_count": 29,
   "metadata": {},
   "outputs": [
    {
     "name": "stdout",
     "output_type": "stream",
     "text": [
      "3\n",
      "true\n"
     ]
    }
   ],
   "source": [
    "def checkMember(n):\n",
    "    x = 0\n",
    "    y = 1\n",
    "    for z in range(0,n):\n",
    "        z = x+y\n",
    "        x = y\n",
    "        y = z\n",
    "    if z == n:\n",
    "        return True\n",
    "    else:\n",
    "        return False\n",
    "    \n",
    "\n",
    "n=int(input())\n",
    "if(checkMember(n)):\n",
    "    print(\"true\")\n",
    "else:\n",
    "    print(\"false\")"
   ]
  },
  {
   "cell_type": "code",
   "execution_count": 7,
   "metadata": {},
   "outputs": [
    {
     "name": "stdout",
     "output_type": "stream",
     "text": [
      "371\n",
      "false\n"
     ]
    }
   ],
   "source": [
    "def checknum(n):\n",
    "    k = n\n",
    "    sum = 0\n",
    "    for n in range(1):\n",
    "        i = n%10\n",
    "        sum = sum + i*i\n",
    "        n = n//10\n",
    "    if sum == k:\n",
    "        return True\n",
    "    else:\n",
    "        return False\n",
    "\n",
    "N = int(input())\n",
    "Anum = checknum(N)\n",
    "if (Anum):\n",
    "    print(\"true\")\n",
    "else:\n",
    "    print(\"false\")"
   ]
  },
  {
   "cell_type": "code",
   "execution_count": 6,
   "metadata": {},
   "outputs": [
    {
     "name": "stdout",
     "output_type": "stream",
     "text": [
      "141\n",
      "false\n"
     ]
    }
   ],
   "source": [
    "def checknum(n):\n",
    "    k = str(n)\n",
    "    a = len(k)\n",
    "    sum = 0\n",
    "    while n != 0:\n",
    "        i = n%10\n",
    "        sum += i**int(a)\n",
    "        n = n//10\n",
    "    if sum == int(k):\n",
    "        return True\n",
    "    else:\n",
    "        return False\n",
    "\n",
    "N = int(input())\n",
    "Anum = checknum(N)\n",
    "if (Anum):\n",
    "    print(\"true\")\n",
    "else:\n",
    "    print(\"false\")"
   ]
  },
  {
   "cell_type": "code",
   "execution_count": 19,
   "metadata": {},
   "outputs": [
    {
     "name": "stdout",
     "output_type": "stream",
     "text": [
      "5\n",
      "true\n"
     ]
    }
   ],
   "source": [
    "def checknum(n):\n",
    "    f = 0\n",
    "    k = n+2\n",
    "    x = 0\n",
    "    y = 1\n",
    "    while k >= 0:\n",
    "        z = x + y\n",
    "        x = y\n",
    "        y = z\n",
    "        if z == n:\n",
    "            f = 1\n",
    "            break\n",
    "        else:\n",
    "            f = 0\n",
    "        k = k - 1    \n",
    "    if f == 1:\n",
    "        return True\n",
    "    else:\n",
    "        return False\n",
    "N = int(input())\n",
    "Anum = checknum(N)\n",
    "if (Anum):\n",
    "    print(\"true\")\n",
    "else:\n",
    "    print(\"false\")"
   ]
  },
  {
   "cell_type": "code",
   "execution_count": null,
   "metadata": {},
   "outputs": [],
   "source": []
  }
 ],
 "metadata": {
  "kernelspec": {
   "display_name": "Python 3",
   "language": "python",
   "name": "python3"
  },
  "language_info": {
   "codemirror_mode": {
    "name": "ipython",
    "version": 3
   },
   "file_extension": ".py",
   "mimetype": "text/x-python",
   "name": "python",
   "nbconvert_exporter": "python",
   "pygments_lexer": "ipython3",
   "version": "3.8.5"
  }
 },
 "nbformat": 4,
 "nbformat_minor": 4
}
